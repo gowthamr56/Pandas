{
 "cells": [
  {
   "cell_type": "code",
   "execution_count": null,
   "id": "f1f13e34",
   "metadata": {},
   "outputs": [],
   "source": [
    "# import 'pandas' package\n",
    "import pandas as pd"
   ]
  },
  {
   "cell_type": "code",
   "execution_count": null,
   "id": "985265f4",
   "metadata": {},
   "outputs": [],
   "source": [
    "# to read csv file\n",
    "df = pd.read_csv(\"Uber_Drives.csv\")\n",
    "df.head()"
   ]
  },
  {
   "cell_type": "code",
   "execution_count": null,
   "id": "d3340d7c",
   "metadata": {},
   "outputs": [],
   "source": [
    "# some useful attributes and methods\n",
    "df.dtypes\n",
    "df.info\n",
    "df.columns\n",
    "df.head()\n",
    "df.tail()\n",
    "df.describe()"
   ]
  },
  {
   "cell_type": "code",
   "execution_count": null,
   "id": "f61d216b",
   "metadata": {},
   "outputs": [],
   "source": [
    "# to convert date string to datetime type\n",
    "df['START_DATE*'] = pd.to_datetime(df['START_DATE*'], errors='coerce')\n",
    "df['END_DATE*'] = pd.to_datetime(df['END_DATE*'], errors='coerce')"
   ]
  },
  {
   "cell_type": "markdown",
   "id": "a38c6b70",
   "metadata": {},
   "source": [
    "FILTERATION"
   ]
  },
  {
   "cell_type": "code",
   "execution_count": null,
   "id": "239f457c",
   "metadata": {},
   "outputs": [],
   "source": [
    "# miles > 10miles\n",
    "# originating from Cary to Durham\n",
    "\n",
    "# Example-1\n",
    "e_1 = df[(df['MILES*']>10) & ((df['START*'] == 'Cary') & (df['STOP*'] == 'Durham'))]\n",
    "\n",
    "# Example-2\n",
    "e_2 = df.loc[(df['MILES*']>10) & ((df['START*'] == 'Cary') & (df['STOP*'] == 'Durham'))]\n",
    "\n",
    "# Example-3\n",
    "e_3 = df.loc[(df['MILES*']>10) & ((df['START*'] == 'Cary') & (df['STOP*'] == 'Durham')), ['START_DATE*', 'END_DATE*']]"
   ]
  },
  {
   "cell_type": "markdown",
   "id": "17ce26c6",
   "metadata": {},
   "source": [
    "RESET INDEXING"
   ]
  },
  {
   "cell_type": "code",
   "execution_count": null,
   "id": "ddc46efe",
   "metadata": {},
   "outputs": [],
   "source": [
    "# to reset index w/o changing original df\n",
    "# you need to store it in new variable\n",
    "v_1 = e_1.reset_index()\n",
    "print(v_1)\n",
    "\n",
    "# to reset index and replace with the original df\n",
    "# set 'True' for 'inplace'\n",
    "e_2.reset_index(inplace=True)\n",
    "\n",
    "# to remove the index column \n",
    "# set 'True' for 'drop'\n",
    "e_2.reset_index(drop=True)\n",
    "print(e_2)"
   ]
  },
  {
   "cell_type": "markdown",
   "id": "b33519b0",
   "metadata": {},
   "source": [
    "SORTING"
   ]
  },
  {
   "cell_type": "code",
   "execution_count": null,
   "id": "e25c33ed",
   "metadata": {},
   "outputs": [],
   "source": [
    "# Example-1\n",
    "print(df.sort_values(by='MILES*', ascending=True).head())\n",
    "\n",
    "# Example-2\n",
    "print(df.sort_values(by=['CATEGORY*', 'MILES*'], ascending=[False, False]).head())"
   ]
  }
 ],
 "metadata": {
  "kernelspec": {
   "display_name": "Python 3 (ipykernel)",
   "language": "python",
   "name": "python3"
  },
  "language_info": {
   "codemirror_mode": {
    "name": "ipython",
    "version": 3
   },
   "file_extension": ".py",
   "mimetype": "text/x-python",
   "name": "python",
   "nbconvert_exporter": "python",
   "pygments_lexer": "ipython3",
   "version": "3.9.0"
  }
 },
 "nbformat": 4,
 "nbformat_minor": 5
}
